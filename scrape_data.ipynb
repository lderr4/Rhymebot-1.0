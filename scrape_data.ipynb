{
 "cells": [
  {
   "cell_type": "code",
   "execution_count": 1,
   "id": "a7970b76",
   "metadata": {},
   "outputs": [],
   "source": [
    "import pandas as pd\n",
    "import requests\n",
    "from bs4 import BeautifulSoup\n",
    "\n",
    "from tqdm import tqdm\n",
    "import time\n",
    "import os\n",
    "import re\n",
    "from unidecode import unidecode"
   ]
  },
  {
   "cell_type": "code",
   "execution_count": 2,
   "id": "a8715612",
   "metadata": {},
   "outputs": [],
   "source": [
    "# get a list of the most famous rap arists\n",
    "def get_artist_name_list():\n",
    "    \n",
    "    url = \"https://www.imdb.com/list/ls054622896/\"\n",
    "    response = requests.get(url)\n",
    "    soup = BeautifulSoup(response.content, 'html.parser')\n",
    "    artist_headers = soup.find_all('h3', class_='lister-item-header')\n",
    "\n",
    "    artist_names = [header.find('a').text.strip() for header in artist_headers]\n",
    "\n",
    "    return artist_names\n"
   ]
  },
  {
   "cell_type": "code",
   "execution_count": 3,
   "id": "38590fe9",
   "metadata": {},
   "outputs": [],
   "source": [
    "artist_names = get_artist_name_list()\n",
    "artist_names[4] = \"Notorious B.I.G.\"\n",
    "artist_names[0] = \"2Pac\""
   ]
  },
  {
   "cell_type": "code",
   "execution_count": 4,
   "id": "811181d6",
   "metadata": {},
   "outputs": [
    {
     "name": "stdout",
     "output_type": "stream",
     "text": [
      "['jayz', 'jayz']\n"
     ]
    },
    {
     "data": {
      "text/plain": [
       "'https://www.azlyrics.com/j/jayz.html'"
      ]
     },
     "execution_count": 4,
     "metadata": {},
     "output_type": "execute_result"
    }
   ],
   "source": [
    "def clean_rapper_name(rapper): # lowercase and remove punctuation    \n",
    "    \n",
    "    rapper = rapper.lower()\n",
    "    rapper = re.sub(r'[^\\w\\s]', '', rapper)\n",
    "    \n",
    "    \n",
    "    rapper = unidecode(rapper)\n",
    "    \n",
    "    rapper_names = rapper.split(\" \")\n",
    "    rapper_full = rapper.replace(\" \", \"\")\n",
    "    \n",
    "    rapper_names.insert(0, rapper_full)\n",
    "    \n",
    "    return rapper_names\n",
    "    \n",
    "\n",
    "def get_az_url(rapper):\n",
    "    \n",
    "    \n",
    "    rapper_names = clean_rapper_name(rapper)\n",
    "    print(rapper_names)\n",
    "    \n",
    "    root = 'https://www.azlyrics.com'\n",
    "    \n",
    "    for name in rapper_names:\n",
    "        \n",
    "        time.sleep(13)\n",
    "        \n",
    "        if rapper[0].isnumeric():\n",
    "            url = f'{root}/19/{name}.html'\n",
    "        else:\n",
    "            url = f'{root}/{name[0].lower()}/{name}.html'\n",
    "        \n",
    "\n",
    "        content = requests.get(url)\n",
    "        \n",
    "        if content.status_code == 404:\n",
    "            continue\n",
    "        else:\n",
    "            return url\n",
    "    \n",
    "    \n",
    "    return False\n",
    "\n",
    "get_az_url(\"Jay-Z\")"
   ]
  },
  {
   "cell_type": "code",
   "execution_count": 5,
   "id": "121fbcc9",
   "metadata": {},
   "outputs": [],
   "source": [
    "def get_rapper_lyrics_list(rapper):\n",
    "    print(rapper)\n",
    "    time.sleep(13)\n",
    "    url = get_az_url(rapper)\n",
    "    if url is False:\n",
    "        print(\"Artist not found.\")\n",
    "        return False \n",
    "    \n",
    "    print(url)\n",
    "    url_content = requests.get(url)\n",
    "    \n",
    "    \n",
    "    \n",
    "    if url_content.status_code == 404:\n",
    "        print(\"404 status code\")\n",
    "        return False\n",
    "    \n",
    "    \n",
    "    \n",
    "    html = BeautifulSoup(url_content.text, 'html.parser')\n",
    "    \n",
    "    tracks_list = html.find_all(\"div\", {\"class\": \"listalbum-item\"})\n",
    "\n",
    "    lyrics_links = []\n",
    "    for track in tracks_list:\n",
    "        if track.find(href=True):\n",
    "            link = track.find(href=True)['href']\n",
    "        else:\n",
    "            continue\n",
    "        if 'https://www.azlyrics.com' in link:\n",
    "            lyrics_links.append(link)\n",
    "        else:\n",
    "            lyrics_links.append('https://www.azlyrics.com'+link)\n",
    "    print(f\"Found {len(lyrics_links)} songs for {rapper}\")\n",
    "    return lyrics_links\n"
   ]
  },
  {
   "cell_type": "code",
   "execution_count": 6,
   "id": "3651a686",
   "metadata": {},
   "outputs": [
    {
     "name": "stdout",
     "output_type": "stream",
     "text": [
      "2Pac\n",
      "['2pac', '2pac']\n",
      "https://www.azlyrics.com/19/2pac.html\n",
      "Found 275 songs for 2Pac\n",
      "Jay-Z\n",
      "['jayz', 'jayz']\n",
      "https://www.azlyrics.com/j/jayz.html\n",
      "Found 312 songs for Jay-Z\n",
      "Nas\n",
      "['nas', 'nas']\n",
      "https://www.azlyrics.com/n/nas.html\n",
      "Found 408 songs for Nas\n",
      "Eminem\n",
      "['eminem', 'eminem']\n",
      "https://www.azlyrics.com/e/eminem.html\n",
      "Found 414 songs for Eminem\n",
      "Notorious B.I.G.\n",
      "['notoriousbig', 'notorious', 'big']\n",
      "https://www.azlyrics.com/n/notorious.html\n",
      "Found 130 songs for Notorious B.I.G.\n",
      "Scarface\n",
      "['scarface', 'scarface']\n",
      "https://www.azlyrics.com/s/scarface.html\n",
      "Found 188 songs for Scarface\n",
      "André 3000\n",
      "['andre3000', 'andre', '3000']\n",
      "https://www.azlyrics.com/a/andre3000.html\n",
      "Found 15 songs for André 3000\n",
      "DMX\n",
      "['dmx', 'dmx']\n",
      "https://www.azlyrics.com/d/dmx.html\n",
      "Found 259 songs for DMX\n",
      "Jadakiss\n",
      "['jadakiss', 'jadakiss']\n",
      "https://www.azlyrics.com/j/jadakiss.html\n",
      "Found 164 songs for Jadakiss\n",
      "Lil' Wayne\n",
      "['lilwayne', 'lil', 'wayne']\n",
      "https://www.azlyrics.com/l/lilwayne.html\n",
      "Found 824 songs for Lil' Wayne\n",
      "Snoop Dogg\n",
      "['snoopdogg', 'snoop', 'dogg']\n",
      "https://www.azlyrics.com/s/snoopdogg.html\n",
      "Found 656 songs for Snoop Dogg\n",
      "Rakim\n",
      "['rakim', 'rakim']\n",
      "https://www.azlyrics.com/r/rakim.html\n",
      "Found 53 songs for Rakim\n",
      "Tip 'T.I.' Harris\n",
      "['tiptiharris', 'tip', 'ti', 'harris']\n",
      "https://www.azlyrics.com/t/ti.html\n",
      "Found 304 songs for Tip 'T.I.' Harris\n",
      "J. Cole\n",
      "['jcole', 'j', 'cole']\n",
      "https://www.azlyrics.com/j/jcole.html\n",
      "Found 270 songs for J. Cole\n",
      "Drake\n",
      "['drake', 'drake']\n",
      "https://www.azlyrics.com/d/drake.html\n",
      "Found 430 songs for Drake\n",
      "Ye\n",
      "['ye', 'ye']\n",
      "Artist not found.\n",
      "Ludacris\n",
      "['ludacris', 'ludacris']\n",
      "https://www.azlyrics.com/l/ludacris.html\n",
      "Found 177 songs for Ludacris\n",
      "Big Pun\n",
      "['bigpun', 'big', 'pun']\n",
      "https://www.azlyrics.com/b/bigpun.html\n",
      "Found 57 songs for Big Pun\n",
      "Twista\n",
      "['twista', 'twista']\n",
      "https://www.azlyrics.com/t/twista.html\n",
      "Found 238 songs for Twista\n",
      "Jeezy\n",
      "['jeezy', 'jeezy']\n",
      "Artist not found.\n",
      "Juvenile\n",
      "['juvenile', 'juvenile']\n",
      "https://www.azlyrics.com/j/juvenile.html\n",
      "Found 154 songs for Juvenile\n",
      "Rick Ross\n",
      "['rickross', 'rick', 'ross']\n",
      "https://www.azlyrics.com/r/rickross.html\n",
      "Found 354 songs for Rick Ross\n",
      "50 Cent\n",
      "['50cent', '50', 'cent']\n",
      "https://www.azlyrics.com/19/50cent.html\n",
      "Found 350 songs for 50 Cent\n",
      "Mystikal\n",
      "['mystikal', 'mystikal']\n",
      "https://www.azlyrics.com/m/mystikal.html\n",
      "Found 88 songs for Mystikal\n",
      "Big Daddy Kane\n",
      "['bigdaddykane', 'big', 'daddy', 'kane']\n",
      "Artist not found.\n",
      "Styles P\n",
      "['stylesp', 'styles', 'p']\n",
      "https://www.azlyrics.com/s/stylesp.html\n",
      "Found 271 songs for Styles P\n",
      "Common\n",
      "['common', 'common']\n",
      "https://www.azlyrics.com/c/common.html\n",
      "Found 205 songs for Common\n",
      "Dr. Dre\n",
      "['drdre', 'dr', 'dre']\n",
      "https://www.azlyrics.com/d/drdre.html\n",
      "Found 105 songs for Dr. Dre\n",
      "Slick Rick\n",
      "['slickrick', 'slick', 'rick']\n",
      "https://www.azlyrics.com/s/slickrick.html\n",
      "Found 60 songs for Slick Rick\n",
      "Trick Daddy\n",
      "['trickdaddy', 'trick', 'daddy']\n",
      "https://www.azlyrics.com/t/trickdaddy.html\n",
      "Found 108 songs for Trick Daddy\n",
      "LL Cool J\n",
      "['llcoolj', 'll', 'cool', 'j']\n",
      "https://www.azlyrics.com/l/llcoolj.html\n",
      "Found 212 songs for LL Cool J\n",
      "Beanie Sigel\n",
      "['beaniesigel', 'beanie', 'sigel']\n",
      "https://www.azlyrics.com/b/beaniesigel.html\n",
      "Found 84 songs for Beanie Sigel\n",
      "Meek Mill\n",
      "['meekmill', 'meek', 'mill']\n",
      "https://www.azlyrics.com/m/meekmill.html\n",
      "Found 336 songs for Meek Mill\n",
      "Kool G Rap\n",
      "['koolgrap', 'kool', 'g', 'rap']\n",
      "Artist not found.\n",
      "Kendrick Lamar\n",
      "['kendricklamar', 'kendrick', 'lamar']\n",
      "https://www.azlyrics.com/k/kendricklamar.html\n",
      "Found 198 songs for Kendrick Lamar\n",
      "Doc\n",
      "['doc', 'doc']\n",
      "Artist not found.\n",
      "Ice-T\n",
      "['icet', 'icet']\n",
      "https://www.azlyrics.com/i/icet.html\n",
      "Found 157 songs for Ice-T\n",
      "Ice Cube\n",
      "['icecube', 'ice', 'cube']\n",
      "https://www.azlyrics.com/i/icecube.html\n",
      "Found 196 songs for Ice Cube\n",
      "Mase\n",
      "['mase', 'mase']\n",
      "https://www.azlyrics.com/m/mase.html\n",
      "Found 58 songs for Mase\n",
      "Talib Kweli\n",
      "['talibkweli', 'talib', 'kweli']\n",
      "https://www.azlyrics.com/k/kweli.html\n",
      "Found 245 songs for Talib Kweli\n",
      "Yasiin Bey\n",
      "['yasiinbey', 'yasiin', 'bey']\n",
      "Artist not found.\n",
      "Method Man\n",
      "['methodman', 'method', 'man']\n",
      "https://www.azlyrics.com/m/methodman.html\n",
      "Found 261 songs for Method Man\n",
      "Ghostface Killah\n",
      "['ghostfacekillah', 'ghostface', 'killah']\n",
      "https://www.azlyrics.com/g/ghostface.html\n",
      "Found 332 songs for Ghostface Killah\n",
      "E-40\n",
      "['e40', 'e40']\n",
      "https://www.azlyrics.com/e/e40.html\n",
      "Found 571 songs for E-40\n",
      "B.G.\n",
      "['bg', 'bg']\n",
      "https://www.azlyrics.com/b/bg.html\n",
      "Found 145 songs for B.G.\n",
      "Mr. Mike\n",
      "['mrmike', 'mr', 'mike']\n",
      "https://www.azlyrics.com/m/mike.html\n",
      "Found 215 songs for Mr. Mike\n",
      "Yo Gotti\n",
      "['yogotti', 'yo', 'gotti']\n",
      "https://www.azlyrics.com/y/yogotti.html\n",
      "Found 350 songs for Yo Gotti\n",
      "Eazy-E\n",
      "['eazye', 'eazye']\n",
      "https://www.azlyrics.com/e/eazye.html\n",
      "Found 64 songs for Eazy-E\n",
      "Wale\n",
      "['wale', 'wale']\n",
      "https://www.azlyrics.com/w/wale.html\n",
      "Found 364 songs for Wale\n",
      "Future\n",
      "['future', 'future']\n",
      "https://www.azlyrics.com/f/future.html\n",
      "Found 548 songs for Future\n"
     ]
    }
   ],
   "source": [
    "all_links = {}\n",
    "# tupac, \n",
    "for rapper_name in artist_names:\n",
    "    \n",
    "    lyric_links = get_rapper_lyrics_list(rapper_name)\n",
    "    \n",
    "    if lyric_links:\n",
    "        all_links[rapper_name] = lyric_links"
   ]
  },
  {
   "cell_type": "code",
   "execution_count": null,
   "id": "03ba44b9",
   "metadata": {},
   "outputs": [],
   "source": [
    "# idea: run a clustering algorithm on the artists\n",
    "# run a different llm on each of the clusters"
   ]
  },
  {
   "cell_type": "code",
   "execution_count": 1,
   "id": "9d7ecbd9",
   "metadata": {},
   "outputs": [],
   "source": [
    "import pickle\n",
    "filename = \"song_links.pkl\"\n",
    "    \n",
    "    \n",
    "with open(filename, \"rb\") as f:\n",
    "    links = pickle.load(f)\n"
   ]
  },
  {
   "cell_type": "code",
   "execution_count": 4,
   "id": "cbe96576",
   "metadata": {},
   "outputs": [
    {
     "name": "stdout",
     "output_type": "stream",
     "text": [
      "44 11205\n"
     ]
    }
   ],
   "source": [
    "n = 0 \n",
    "a = 0\n",
    "for v in links.values():\n",
    "    n += len(v)\n",
    "    a += 1\n",
    "print(a, n)"
   ]
  },
  {
   "cell_type": "code",
   "execution_count": 41,
   "id": "baac1de3",
   "metadata": {
    "scrolled": true
   },
   "outputs": [
    {
     "name": "stderr",
     "output_type": "stream",
     "text": [
      "Gathering songs lyrics of Rakim: 100%|██████████| 53/53 [12:03<00:00, 13.65s/it]\n",
      "Gathering songs lyrics of Tip 'T.I.' Harris:  56%|▌| 170/304 [38:50<31:04, 13.91"
     ]
    },
    {
     "name": "stdout",
     "output_type": "stream",
     "text": [
      "faulty request:  403\n",
      "list index out of range\n"
     ]
    },
    {
     "name": "stderr",
     "output_type": "stream",
     "text": [
      "\r",
      "Gathering songs lyrics of Tip 'T.I.' Harris:  56%|▌| 171/304 [39:05<31:10, 14.07"
     ]
    },
    {
     "name": "stdout",
     "output_type": "stream",
     "text": [
      "faulty request:  403\n",
      "list index out of range\n"
     ]
    },
    {
     "name": "stderr",
     "output_type": "stream",
     "text": [
      "\r",
      "Gathering songs lyrics of Tip 'T.I.' Harris:  57%|▌| 172/304 [39:19<31:20, 14.25"
     ]
    },
    {
     "name": "stdout",
     "output_type": "stream",
     "text": [
      "faulty request:  403\n",
      "list index out of range\n"
     ]
    },
    {
     "name": "stderr",
     "output_type": "stream",
     "text": [
      "\r",
      "Gathering songs lyrics of Tip 'T.I.' Harris:  57%|▌| 173/304 [39:34<31:03, 14.23"
     ]
    },
    {
     "name": "stdout",
     "output_type": "stream",
     "text": [
      "faulty request:  403\n",
      "list index out of range\n"
     ]
    },
    {
     "name": "stderr",
     "output_type": "stream",
     "text": [
      "\r",
      "Gathering songs lyrics of Tip 'T.I.' Harris:  57%|▌| 174/304 [39:48<30:47, 14.21"
     ]
    },
    {
     "name": "stdout",
     "output_type": "stream",
     "text": [
      "faulty request:  403\n",
      "list index out of range\n"
     ]
    },
    {
     "name": "stderr",
     "output_type": "stream",
     "text": [
      "\r",
      "Gathering songs lyrics of Tip 'T.I.' Harris:  58%|▌| 175/304 [40:02<30:30, 14.19"
     ]
    },
    {
     "name": "stdout",
     "output_type": "stream",
     "text": [
      "faulty request:  403\n",
      "list index out of range\n"
     ]
    },
    {
     "name": "stderr",
     "output_type": "stream",
     "text": [
      "\r",
      "Gathering songs lyrics of Tip 'T.I.' Harris:  58%|▌| 176/304 [40:16<30:14, 14.17"
     ]
    },
    {
     "name": "stdout",
     "output_type": "stream",
     "text": [
      "faulty request:  403\n",
      "list index out of range\n"
     ]
    },
    {
     "name": "stderr",
     "output_type": "stream",
     "text": [
      "\r",
      "Gathering songs lyrics of Tip 'T.I.' Harris:  58%|▌| 177/304 [40:30<29:59, 14.17"
     ]
    },
    {
     "name": "stdout",
     "output_type": "stream",
     "text": [
      "faulty request:  403\n",
      "list index out of range\n"
     ]
    },
    {
     "name": "stderr",
     "output_type": "stream",
     "text": [
      "\r",
      "Gathering songs lyrics of Tip 'T.I.' Harris:  59%|▌| 178/304 [40:44<29:44, 14.16"
     ]
    },
    {
     "name": "stdout",
     "output_type": "stream",
     "text": [
      "faulty request:  403\n",
      "list index out of range\n"
     ]
    },
    {
     "name": "stderr",
     "output_type": "stream",
     "text": [
      "\r",
      "Gathering songs lyrics of Tip 'T.I.' Harris:  59%|▌| 179/304 [40:58<29:31, 14.17"
     ]
    },
    {
     "name": "stdout",
     "output_type": "stream",
     "text": [
      "faulty request:  403\n",
      "list index out of range\n"
     ]
    },
    {
     "name": "stderr",
     "output_type": "stream",
     "text": [
      "\r",
      "Gathering songs lyrics of Tip 'T.I.' Harris:  59%|▌| 180/304 [41:13<29:15, 14.16"
     ]
    },
    {
     "name": "stdout",
     "output_type": "stream",
     "text": [
      "faulty request:  403\n",
      "list index out of range\n"
     ]
    },
    {
     "name": "stderr",
     "output_type": "stream",
     "text": [
      "\r",
      "Gathering songs lyrics of Tip 'T.I.' Harris:  60%|▌| 181/304 [41:27<29:01, 14.16"
     ]
    },
    {
     "name": "stdout",
     "output_type": "stream",
     "text": [
      "faulty request:  403\n",
      "list index out of range\n"
     ]
    },
    {
     "name": "stderr",
     "output_type": "stream",
     "text": [
      "\r",
      "Gathering songs lyrics of Tip 'T.I.' Harris:  60%|▌| 182/304 [41:41<28:47, 14.16"
     ]
    },
    {
     "name": "stdout",
     "output_type": "stream",
     "text": [
      "faulty request:  403\n",
      "list index out of range\n"
     ]
    },
    {
     "name": "stderr",
     "output_type": "stream",
     "text": [
      "\r",
      "Gathering songs lyrics of Tip 'T.I.' Harris:  60%|▌| 183/304 [41:55<28:32, 14.16"
     ]
    },
    {
     "name": "stdout",
     "output_type": "stream",
     "text": [
      "faulty request:  403\n",
      "list index out of range\n"
     ]
    },
    {
     "name": "stderr",
     "output_type": "stream",
     "text": [
      "\r",
      "Gathering songs lyrics of Tip 'T.I.' Harris:  61%|▌| 184/304 [42:09<28:18, 14.16"
     ]
    },
    {
     "name": "stdout",
     "output_type": "stream",
     "text": [
      "faulty request:  403\n",
      "list index out of range\n"
     ]
    },
    {
     "name": "stderr",
     "output_type": "stream",
     "text": [
      "\r",
      "Gathering songs lyrics of Tip 'T.I.' Harris:  61%|▌| 185/304 [42:24<28:31, 14.38"
     ]
    },
    {
     "name": "stdout",
     "output_type": "stream",
     "text": [
      "faulty request:  403\n",
      "list index out of range\n"
     ]
    },
    {
     "name": "stderr",
     "output_type": "stream",
     "text": [
      "\r",
      "Gathering songs lyrics of Tip 'T.I.' Harris:  61%|▌| 186/304 [42:39<28:19, 14.40"
     ]
    },
    {
     "name": "stdout",
     "output_type": "stream",
     "text": [
      "faulty request:  403\n",
      "list index out of range\n"
     ]
    },
    {
     "name": "stderr",
     "output_type": "stream",
     "text": [
      "\r",
      "Gathering songs lyrics of Tip 'T.I.' Harris:  62%|▌| 187/304 [42:53<27:57, 14.33"
     ]
    },
    {
     "name": "stdout",
     "output_type": "stream",
     "text": [
      "faulty request:  403\n",
      "list index out of range\n"
     ]
    },
    {
     "name": "stderr",
     "output_type": "stream",
     "text": [
      "\r",
      "Gathering songs lyrics of Tip 'T.I.' Harris:  62%|▌| 188/304 [43:07<27:36, 14.28"
     ]
    },
    {
     "name": "stdout",
     "output_type": "stream",
     "text": [
      "faulty request:  403\n",
      "list index out of range\n"
     ]
    },
    {
     "name": "stderr",
     "output_type": "stream",
     "text": [
      "\r",
      "Gathering songs lyrics of Tip 'T.I.' Harris:  62%|▌| 189/304 [43:21<27:18, 14.25"
     ]
    },
    {
     "name": "stdout",
     "output_type": "stream",
     "text": [
      "faulty request:  403\n",
      "list index out of range\n"
     ]
    },
    {
     "name": "stderr",
     "output_type": "stream",
     "text": [
      "\r",
      "Gathering songs lyrics of Tip 'T.I.' Harris:  62%|▋| 190/304 [43:35<27:00, 14.21"
     ]
    },
    {
     "name": "stdout",
     "output_type": "stream",
     "text": [
      "faulty request:  403\n",
      "list index out of range\n"
     ]
    },
    {
     "name": "stderr",
     "output_type": "stream",
     "text": [
      "\r",
      "Gathering songs lyrics of Tip 'T.I.' Harris:  63%|▋| 191/304 [43:49<26:44, 14.20"
     ]
    },
    {
     "name": "stdout",
     "output_type": "stream",
     "text": [
      "faulty request:  403\n",
      "list index out of range\n"
     ]
    },
    {
     "name": "stderr",
     "output_type": "stream",
     "text": [
      "\r",
      "Gathering songs lyrics of Tip 'T.I.' Harris:  63%|▋| 192/304 [44:04<26:58, 14.45"
     ]
    },
    {
     "name": "stdout",
     "output_type": "stream",
     "text": [
      "faulty request:  403\n",
      "list index out of range\n"
     ]
    },
    {
     "name": "stderr",
     "output_type": "stream",
     "text": [
      "\r",
      "Gathering songs lyrics of Tip 'T.I.' Harris:  63%|▋| 193/304 [44:19<26:36, 14.38"
     ]
    },
    {
     "name": "stdout",
     "output_type": "stream",
     "text": [
      "faulty request:  403\n",
      "list index out of range\n"
     ]
    },
    {
     "name": "stderr",
     "output_type": "stream",
     "text": [
      "\r",
      "Gathering songs lyrics of Tip 'T.I.' Harris:  64%|▋| 194/304 [44:33<26:17, 14.34"
     ]
    },
    {
     "name": "stdout",
     "output_type": "stream",
     "text": [
      "faulty request:  403\n",
      "list index out of range\n"
     ]
    },
    {
     "name": "stderr",
     "output_type": "stream",
     "text": [
      "\r",
      "Gathering songs lyrics of Tip 'T.I.' Harris:  64%|▋| 195/304 [44:47<25:58, 14.30"
     ]
    },
    {
     "name": "stdout",
     "output_type": "stream",
     "text": [
      "faulty request:  403\n",
      "list index out of range\n"
     ]
    },
    {
     "name": "stderr",
     "output_type": "stream",
     "text": [
      "\r",
      "Gathering songs lyrics of Tip 'T.I.' Harris:  64%|▋| 196/304 [45:01<25:39, 14.25"
     ]
    },
    {
     "name": "stdout",
     "output_type": "stream",
     "text": [
      "faulty request:  403\n",
      "list index out of range\n"
     ]
    },
    {
     "name": "stderr",
     "output_type": "stream",
     "text": [
      "\r",
      "Gathering songs lyrics of Tip 'T.I.' Harris:  65%|▋| 197/304 [45:15<25:21, 14.22"
     ]
    },
    {
     "name": "stdout",
     "output_type": "stream",
     "text": [
      "faulty request:  403\n",
      "list index out of range\n"
     ]
    },
    {
     "name": "stderr",
     "output_type": "stream",
     "text": [
      "\r",
      "Gathering songs lyrics of Tip 'T.I.' Harris:  65%|▋| 198/304 [45:29<25:01, 14.16"
     ]
    },
    {
     "name": "stdout",
     "output_type": "stream",
     "text": [
      "faulty request:  403\n",
      "list index out of range\n"
     ]
    },
    {
     "name": "stderr",
     "output_type": "stream",
     "text": [
      "\r",
      "Gathering songs lyrics of Tip 'T.I.' Harris:  65%|▋| 199/304 [45:44<24:46, 14.16"
     ]
    },
    {
     "name": "stdout",
     "output_type": "stream",
     "text": [
      "faulty request:  403\n",
      "list index out of range\n"
     ]
    },
    {
     "name": "stderr",
     "output_type": "stream",
     "text": [
      "\r",
      "Gathering songs lyrics of Tip 'T.I.' Harris:  66%|▋| 200/304 [45:58<24:36, 14.19"
     ]
    },
    {
     "name": "stdout",
     "output_type": "stream",
     "text": [
      "faulty request:  403\n",
      "list index out of range\n"
     ]
    },
    {
     "name": "stderr",
     "output_type": "stream",
     "text": [
      "\r",
      "Gathering songs lyrics of Tip 'T.I.' Harris:  66%|▋| 201/304 [46:12<24:18, 14.16"
     ]
    },
    {
     "name": "stdout",
     "output_type": "stream",
     "text": [
      "faulty request:  403\n",
      "list index out of range\n"
     ]
    },
    {
     "name": "stderr",
     "output_type": "stream",
     "text": [
      "\r",
      "Gathering songs lyrics of Tip 'T.I.' Harris:  66%|▋| 202/304 [46:26<24:07, 14.19"
     ]
    },
    {
     "name": "stdout",
     "output_type": "stream",
     "text": [
      "faulty request:  403\n",
      "list index out of range\n"
     ]
    },
    {
     "name": "stderr",
     "output_type": "stream",
     "text": [
      "\r",
      "Gathering songs lyrics of Tip 'T.I.' Harris:  67%|▋| 203/304 [46:41<24:02, 14.29"
     ]
    },
    {
     "name": "stdout",
     "output_type": "stream",
     "text": [
      "faulty request:  403\n",
      "list index out of range\n"
     ]
    },
    {
     "name": "stderr",
     "output_type": "stream",
     "text": [
      "\r",
      "Gathering songs lyrics of Tip 'T.I.' Harris:  67%|▋| 204/304 [46:55<23:45, 14.25"
     ]
    },
    {
     "name": "stdout",
     "output_type": "stream",
     "text": [
      "faulty request:  403\n",
      "list index out of range\n"
     ]
    },
    {
     "name": "stderr",
     "output_type": "stream",
     "text": [
      "\r",
      "Gathering songs lyrics of Tip 'T.I.' Harris:  67%|▋| 205/304 [47:09<23:27, 14.22"
     ]
    },
    {
     "name": "stdout",
     "output_type": "stream",
     "text": [
      "faulty request:  403\n",
      "list index out of range\n"
     ]
    },
    {
     "name": "stderr",
     "output_type": "stream",
     "text": [
      "\r",
      "Gathering songs lyrics of Tip 'T.I.' Harris:  68%|▋| 206/304 [47:23<23:12, 14.21"
     ]
    },
    {
     "name": "stdout",
     "output_type": "stream",
     "text": [
      "faulty request:  403\n",
      "list index out of range\n"
     ]
    },
    {
     "name": "stderr",
     "output_type": "stream",
     "text": [
      "\r",
      "Gathering songs lyrics of Tip 'T.I.' Harris:  68%|▋| 207/304 [47:37<23:00, 14.23"
     ]
    },
    {
     "name": "stdout",
     "output_type": "stream",
     "text": [
      "faulty request:  403\n",
      "list index out of range\n"
     ]
    },
    {
     "name": "stderr",
     "output_type": "stream",
     "text": [
      "\r",
      "Gathering songs lyrics of Tip 'T.I.' Harris:  68%|▋| 208/304 [47:52<22:44, 14.21"
     ]
    },
    {
     "name": "stdout",
     "output_type": "stream",
     "text": [
      "faulty request:  403\n",
      "list index out of range\n"
     ]
    },
    {
     "name": "stderr",
     "output_type": "stream",
     "text": [
      "\r",
      "Gathering songs lyrics of Tip 'T.I.' Harris:  69%|▋| 209/304 [48:06<22:29, 14.20"
     ]
    },
    {
     "name": "stdout",
     "output_type": "stream",
     "text": [
      "faulty request:  403\n",
      "list index out of range\n"
     ]
    },
    {
     "name": "stderr",
     "output_type": "stream",
     "text": [
      "\r",
      "Gathering songs lyrics of Tip 'T.I.' Harris:  69%|▋| 210/304 [48:20<22:23, 14.29"
     ]
    },
    {
     "name": "stdout",
     "output_type": "stream",
     "text": [
      "faulty request:  403\n",
      "list index out of range\n"
     ]
    },
    {
     "name": "stderr",
     "output_type": "stream",
     "text": [
      "\r",
      "Gathering songs lyrics of Tip 'T.I.' Harris:  69%|▋| 211/304 [48:34<22:05, 14.25"
     ]
    },
    {
     "name": "stdout",
     "output_type": "stream",
     "text": [
      "faulty request:  403\n",
      "list index out of range\n"
     ]
    },
    {
     "name": "stderr",
     "output_type": "stream",
     "text": [
      "\r",
      "Gathering songs lyrics of Tip 'T.I.' Harris:  70%|▋| 212/304 [48:49<21:52, 14.27"
     ]
    },
    {
     "name": "stdout",
     "output_type": "stream",
     "text": [
      "faulty request:  403\n",
      "list index out of range\n"
     ]
    },
    {
     "name": "stderr",
     "output_type": "stream",
     "text": [
      "\r",
      "Gathering songs lyrics of Tip 'T.I.' Harris:  70%|▋| 213/304 [49:03<21:48, 14.38"
     ]
    },
    {
     "name": "stdout",
     "output_type": "stream",
     "text": [
      "faulty request:  403\n",
      "list index out of range\n"
     ]
    },
    {
     "name": "stderr",
     "output_type": "stream",
     "text": [
      "\r",
      "Gathering songs lyrics of Tip 'T.I.' Harris:  70%|▋| 214/304 [49:18<21:39, 14.43"
     ]
    },
    {
     "name": "stdout",
     "output_type": "stream",
     "text": [
      "faulty request:  403\n",
      "list index out of range\n"
     ]
    },
    {
     "name": "stderr",
     "output_type": "stream",
     "text": [
      "\r",
      "Gathering songs lyrics of Tip 'T.I.' Harris:  71%|▋| 215/304 [49:32<21:18, 14.36"
     ]
    },
    {
     "name": "stdout",
     "output_type": "stream",
     "text": [
      "faulty request:  403\n",
      "list index out of range\n"
     ]
    },
    {
     "name": "stderr",
     "output_type": "stream",
     "text": [
      "\r",
      "Gathering songs lyrics of Tip 'T.I.' Harris:  71%|▋| 216/304 [49:46<21:01, 14.33"
     ]
    },
    {
     "name": "stdout",
     "output_type": "stream",
     "text": [
      "faulty request:  403\n",
      "list index out of range\n"
     ]
    },
    {
     "name": "stderr",
     "output_type": "stream",
     "text": [
      "\r",
      "Gathering songs lyrics of Tip 'T.I.' Harris:  71%|▋| 217/304 [50:01<20:42, 14.28"
     ]
    },
    {
     "name": "stdout",
     "output_type": "stream",
     "text": [
      "faulty request:  403\n",
      "list index out of range\n"
     ]
    },
    {
     "name": "stderr",
     "output_type": "stream",
     "text": [
      "\r",
      "Gathering songs lyrics of Tip 'T.I.' Harris:  72%|▋| 218/304 [50:15<20:25, 14.25"
     ]
    },
    {
     "name": "stdout",
     "output_type": "stream",
     "text": [
      "faulty request:  403\n",
      "list index out of range\n"
     ]
    },
    {
     "name": "stderr",
     "output_type": "stream",
     "text": [
      "\r",
      "Gathering songs lyrics of Tip 'T.I.' Harris:  72%|▋| 219/304 [50:29<20:09, 14.22"
     ]
    },
    {
     "name": "stdout",
     "output_type": "stream",
     "text": [
      "faulty request:  403\n",
      "list index out of range\n"
     ]
    },
    {
     "name": "stderr",
     "output_type": "stream",
     "text": [
      "\r",
      "Gathering songs lyrics of Tip 'T.I.' Harris:  72%|▋| 220/304 [50:43<19:52, 14.20"
     ]
    },
    {
     "name": "stdout",
     "output_type": "stream",
     "text": [
      "faulty request:  403\n",
      "list index out of range\n"
     ]
    },
    {
     "name": "stderr",
     "output_type": "stream",
     "text": [
      "\r",
      "Gathering songs lyrics of Tip 'T.I.' Harris:  73%|▋| 221/304 [50:57<19:34, 14.15"
     ]
    },
    {
     "name": "stdout",
     "output_type": "stream",
     "text": [
      "faulty request:  403\n",
      "list index out of range\n"
     ]
    },
    {
     "name": "stderr",
     "output_type": "stream",
     "text": [
      "\r",
      "Gathering songs lyrics of Tip 'T.I.' Harris:  73%|▋| 222/304 [51:11<19:23, 14.19"
     ]
    },
    {
     "name": "stdout",
     "output_type": "stream",
     "text": [
      "faulty request:  403\n",
      "list index out of range\n"
     ]
    },
    {
     "name": "stderr",
     "output_type": "stream",
     "text": [
      "\r",
      "Gathering songs lyrics of Tip 'T.I.' Harris:  73%|▋| 223/304 [51:26<19:17, 14.29"
     ]
    },
    {
     "name": "stdout",
     "output_type": "stream",
     "text": [
      "faulty request:  403\n",
      "list index out of range\n"
     ]
    },
    {
     "name": "stderr",
     "output_type": "stream",
     "text": [
      "\r",
      "Gathering songs lyrics of Tip 'T.I.' Harris:  74%|▋| 224/304 [51:40<18:59, 14.25"
     ]
    },
    {
     "name": "stdout",
     "output_type": "stream",
     "text": [
      "faulty request:  403\n",
      "list index out of range\n"
     ]
    },
    {
     "name": "stderr",
     "output_type": "stream",
     "text": [
      "\r",
      "Gathering songs lyrics of Tip 'T.I.' Harris:  74%|▋| 225/304 [51:54<18:43, 14.22"
     ]
    },
    {
     "name": "stdout",
     "output_type": "stream",
     "text": [
      "faulty request:  403\n",
      "list index out of range\n"
     ]
    },
    {
     "name": "stderr",
     "output_type": "stream",
     "text": [
      "\r",
      "Gathering songs lyrics of Tip 'T.I.' Harris:  74%|▋| 226/304 [52:08<18:25, 14.17"
     ]
    },
    {
     "name": "stdout",
     "output_type": "stream",
     "text": [
      "faulty request:  403\n",
      "list index out of range\n"
     ]
    },
    {
     "name": "stderr",
     "output_type": "stream",
     "text": [
      "\r",
      "Gathering songs lyrics of Tip 'T.I.' Harris:  75%|▋| 227/304 [52:23<18:14, 14.21"
     ]
    },
    {
     "name": "stdout",
     "output_type": "stream",
     "text": [
      "faulty request:  403\n",
      "list index out of range\n"
     ]
    },
    {
     "name": "stderr",
     "output_type": "stream",
     "text": [
      "\r",
      "Gathering songs lyrics of Tip 'T.I.' Harris:  75%|▊| 228/304 [52:37<18:04, 14.27"
     ]
    },
    {
     "name": "stdout",
     "output_type": "stream",
     "text": [
      "faulty request:  403\n",
      "list index out of range\n"
     ]
    },
    {
     "name": "stderr",
     "output_type": "stream",
     "text": [
      "\r",
      "Gathering songs lyrics of Tip 'T.I.' Harris:  75%|▊| 229/304 [52:51<17:49, 14.26"
     ]
    },
    {
     "name": "stdout",
     "output_type": "stream",
     "text": [
      "faulty request:  403\n",
      "list index out of range\n"
     ]
    },
    {
     "name": "stderr",
     "output_type": "stream",
     "text": [
      "\r",
      "Gathering songs lyrics of Tip 'T.I.' Harris:  76%|▊| 230/304 [53:06<17:35, 14.27"
     ]
    },
    {
     "name": "stdout",
     "output_type": "stream",
     "text": [
      "faulty request:  403\n",
      "list index out of range\n"
     ]
    },
    {
     "name": "stderr",
     "output_type": "stream",
     "text": [
      "\r",
      "Gathering songs lyrics of Tip 'T.I.' Harris:  76%|▊| 231/304 [53:20<17:21, 14.26"
     ]
    },
    {
     "name": "stdout",
     "output_type": "stream",
     "text": [
      "faulty request:  403\n",
      "list index out of range\n"
     ]
    },
    {
     "name": "stderr",
     "output_type": "stream",
     "text": [
      "\r",
      "Gathering songs lyrics of Tip 'T.I.' Harris:  76%|▊| 232/304 [53:34<17:02, 14.20"
     ]
    },
    {
     "name": "stdout",
     "output_type": "stream",
     "text": [
      "faulty request:  403\n",
      "list index out of range\n"
     ]
    },
    {
     "name": "stderr",
     "output_type": "stream",
     "text": [
      "\r",
      "Gathering songs lyrics of Tip 'T.I.' Harris:  77%|▊| 233/304 [53:48<16:48, 14.20"
     ]
    },
    {
     "name": "stdout",
     "output_type": "stream",
     "text": [
      "faulty request:  403\n",
      "list index out of range\n"
     ]
    },
    {
     "name": "stderr",
     "output_type": "stream",
     "text": [
      "\r",
      "Gathering songs lyrics of Tip 'T.I.' Harris:  77%|▊| 234/304 [54:05<17:25, 14.93"
     ]
    },
    {
     "name": "stdout",
     "output_type": "stream",
     "text": [
      "faulty request:  403\n",
      "list index out of range\n"
     ]
    },
    {
     "name": "stderr",
     "output_type": "stream",
     "text": [
      "\r",
      "Gathering songs lyrics of Tip 'T.I.' Harris:  77%|▊| 235/304 [54:20<17:26, 15.17"
     ]
    },
    {
     "name": "stdout",
     "output_type": "stream",
     "text": [
      "faulty request:  403\n",
      "list index out of range\n"
     ]
    },
    {
     "name": "stderr",
     "output_type": "stream",
     "text": [
      "\r",
      "Gathering songs lyrics of Tip 'T.I.' Harris:  78%|▊| 236/304 [54:35<16:53, 14.90"
     ]
    },
    {
     "name": "stdout",
     "output_type": "stream",
     "text": [
      "faulty request:  403\n",
      "list index out of range\n"
     ]
    },
    {
     "name": "stderr",
     "output_type": "stream",
     "text": [
      "\r",
      "Gathering songs lyrics of Tip 'T.I.' Harris:  78%|▊| 237/304 [54:49<16:23, 14.68"
     ]
    },
    {
     "name": "stdout",
     "output_type": "stream",
     "text": [
      "faulty request:  403\n",
      "list index out of range\n"
     ]
    },
    {
     "name": "stderr",
     "output_type": "stream",
     "text": [
      "\r",
      "Gathering songs lyrics of Tip 'T.I.' Harris:  78%|▊| 238/304 [55:03<15:58, 14.52"
     ]
    },
    {
     "name": "stdout",
     "output_type": "stream",
     "text": [
      "faulty request:  403\n",
      "list index out of range\n"
     ]
    },
    {
     "name": "stderr",
     "output_type": "stream",
     "text": [
      "\r",
      "Gathering songs lyrics of Tip 'T.I.' Harris:  79%|▊| 239/304 [55:17<15:38, 14.44"
     ]
    },
    {
     "name": "stdout",
     "output_type": "stream",
     "text": [
      "faulty request:  403\n",
      "list index out of range\n"
     ]
    },
    {
     "name": "stderr",
     "output_type": "stream",
     "text": [
      "\r",
      "Gathering songs lyrics of Tip 'T.I.' Harris:  79%|▊| 240/304 [55:31<15:19, 14.37"
     ]
    },
    {
     "name": "stdout",
     "output_type": "stream",
     "text": [
      "faulty request:  403\n",
      "list index out of range\n"
     ]
    },
    {
     "name": "stderr",
     "output_type": "stream",
     "text": [
      "\r",
      "Gathering songs lyrics of Tip 'T.I.' Harris:  79%|▊| 241/304 [55:46<15:03, 14.34"
     ]
    },
    {
     "name": "stdout",
     "output_type": "stream",
     "text": [
      "faulty request:  403\n",
      "list index out of range\n"
     ]
    },
    {
     "name": "stderr",
     "output_type": "stream",
     "text": [
      "\r",
      "Gathering songs lyrics of Tip 'T.I.' Harris:  80%|▊| 242/304 [56:00<14:48, 14.33"
     ]
    },
    {
     "name": "stdout",
     "output_type": "stream",
     "text": [
      "faulty request:  403\n",
      "list index out of range\n"
     ]
    },
    {
     "name": "stderr",
     "output_type": "stream",
     "text": [
      "\r",
      "Gathering songs lyrics of Tip 'T.I.' Harris:  80%|▊| 243/304 [56:14<14:32, 14.31"
     ]
    },
    {
     "name": "stdout",
     "output_type": "stream",
     "text": [
      "faulty request:  403\n",
      "list index out of range\n"
     ]
    },
    {
     "name": "stderr",
     "output_type": "stream",
     "text": [
      "\r",
      "Gathering songs lyrics of Tip 'T.I.' Harris:  80%|▊| 244/304 [56:28<14:16, 14.28"
     ]
    },
    {
     "name": "stdout",
     "output_type": "stream",
     "text": [
      "faulty request:  403\n",
      "list index out of range\n"
     ]
    },
    {
     "name": "stderr",
     "output_type": "stream",
     "text": [
      "\r",
      "Gathering songs lyrics of Tip 'T.I.' Harris:  81%|▊| 245/304 [56:43<14:02, 14.27"
     ]
    },
    {
     "name": "stdout",
     "output_type": "stream",
     "text": [
      "faulty request:  403\n",
      "list index out of range\n"
     ]
    },
    {
     "name": "stderr",
     "output_type": "stream",
     "text": [
      "\r",
      "Gathering songs lyrics of Tip 'T.I.' Harris:  81%|▊| 246/304 [56:57<13:44, 14.22"
     ]
    },
    {
     "name": "stdout",
     "output_type": "stream",
     "text": [
      "faulty request:  403\n",
      "list index out of range\n"
     ]
    },
    {
     "name": "stderr",
     "output_type": "stream",
     "text": [
      "\r",
      "Gathering songs lyrics of Tip 'T.I.' Harris:  81%|▊| 247/304 [57:11<13:30, 14.23"
     ]
    },
    {
     "name": "stdout",
     "output_type": "stream",
     "text": [
      "faulty request:  403\n",
      "list index out of range\n"
     ]
    },
    {
     "name": "stderr",
     "output_type": "stream",
     "text": [
      "\r",
      "Gathering songs lyrics of Tip 'T.I.' Harris:  82%|▊| 248/304 [57:25<13:15, 14.21"
     ]
    },
    {
     "name": "stdout",
     "output_type": "stream",
     "text": [
      "faulty request:  403\n",
      "list index out of range\n"
     ]
    },
    {
     "name": "stderr",
     "output_type": "stream",
     "text": [
      "\r",
      "Gathering songs lyrics of Tip 'T.I.' Harris:  82%|▊| 249/304 [57:39<13:00, 14.19"
     ]
    },
    {
     "name": "stdout",
     "output_type": "stream",
     "text": [
      "faulty request:  403\n",
      "list index out of range\n"
     ]
    },
    {
     "name": "stderr",
     "output_type": "stream",
     "text": [
      "\r",
      "Gathering songs lyrics of Tip 'T.I.' Harris:  82%|▊| 250/304 [57:54<12:45, 14.17"
     ]
    },
    {
     "name": "stdout",
     "output_type": "stream",
     "text": [
      "faulty request:  403\n",
      "list index out of range\n"
     ]
    },
    {
     "name": "stderr",
     "output_type": "stream",
     "text": [
      "\r",
      "Gathering songs lyrics of Tip 'T.I.' Harris:  83%|▊| 251/304 [58:08<12:30, 14.17"
     ]
    },
    {
     "name": "stdout",
     "output_type": "stream",
     "text": [
      "faulty request:  403\n",
      "list index out of range\n"
     ]
    },
    {
     "name": "stderr",
     "output_type": "stream",
     "text": [
      "\r",
      "Gathering songs lyrics of Tip 'T.I.' Harris:  83%|▊| 252/304 [58:22<12:16, 14.16"
     ]
    },
    {
     "name": "stdout",
     "output_type": "stream",
     "text": [
      "faulty request:  403\n",
      "list index out of range\n"
     ]
    },
    {
     "name": "stderr",
     "output_type": "stream",
     "text": [
      "\r",
      "Gathering songs lyrics of Tip 'T.I.' Harris:  83%|▊| 253/304 [58:36<12:04, 14.21"
     ]
    },
    {
     "name": "stdout",
     "output_type": "stream",
     "text": [
      "faulty request:  403\n",
      "list index out of range\n"
     ]
    },
    {
     "name": "stderr",
     "output_type": "stream",
     "text": [
      "\r",
      "Gathering songs lyrics of Tip 'T.I.' Harris:  84%|▊| 254/304 [58:51<11:53, 14.27"
     ]
    },
    {
     "name": "stdout",
     "output_type": "stream",
     "text": [
      "faulty request:  403\n",
      "list index out of range\n"
     ]
    },
    {
     "name": "stderr",
     "output_type": "stream",
     "text": [
      "\r",
      "Gathering songs lyrics of Tip 'T.I.' Harris:  84%|▊| 255/304 [59:05<11:40, 14.29"
     ]
    },
    {
     "name": "stdout",
     "output_type": "stream",
     "text": [
      "faulty request:  403\n",
      "list index out of range\n"
     ]
    },
    {
     "name": "stderr",
     "output_type": "stream",
     "text": [
      "\r",
      "Gathering songs lyrics of Tip 'T.I.' Harris:  84%|▊| 256/304 [59:19<11:26, 14.30"
     ]
    },
    {
     "name": "stdout",
     "output_type": "stream",
     "text": [
      "faulty request:  403\n",
      "list index out of range\n"
     ]
    },
    {
     "name": "stderr",
     "output_type": "stream",
     "text": [
      "\r",
      "Gathering songs lyrics of Tip 'T.I.' Harris:  85%|▊| 257/304 [59:34<11:12, 14.32"
     ]
    },
    {
     "name": "stdout",
     "output_type": "stream",
     "text": [
      "faulty request:  403\n",
      "list index out of range\n"
     ]
    },
    {
     "name": "stderr",
     "output_type": "stream",
     "text": [
      "\r",
      "Gathering songs lyrics of Tip 'T.I.' Harris:  85%|▊| 258/304 [59:48<10:54, 14.22"
     ]
    },
    {
     "name": "stdout",
     "output_type": "stream",
     "text": [
      "faulty request:  403\n",
      "list index out of range\n"
     ]
    },
    {
     "name": "stderr",
     "output_type": "stream",
     "text": [
      "\r",
      "Gathering songs lyrics of Tip 'T.I.' Harris:  85%|▊| 259/304 [1:00:02<10:38, 14."
     ]
    },
    {
     "name": "stdout",
     "output_type": "stream",
     "text": [
      "faulty request:  403\n",
      "list index out of range\n"
     ]
    },
    {
     "name": "stderr",
     "output_type": "stream",
     "text": [
      "\r",
      "Gathering songs lyrics of Tip 'T.I.' Harris:  86%|▊| 260/304 [1:00:16<10:21, 14."
     ]
    },
    {
     "name": "stdout",
     "output_type": "stream",
     "text": [
      "faulty request:  403\n",
      "list index out of range\n"
     ]
    },
    {
     "name": "stderr",
     "output_type": "stream",
     "text": [
      "\r",
      "Gathering songs lyrics of Tip 'T.I.' Harris:  86%|▊| 261/304 [1:00:30<10:06, 14."
     ]
    },
    {
     "name": "stdout",
     "output_type": "stream",
     "text": [
      "faulty request:  403\n",
      "list index out of range\n"
     ]
    },
    {
     "name": "stderr",
     "output_type": "stream",
     "text": [
      "\r",
      "Gathering songs lyrics of Tip 'T.I.' Harris:  86%|▊| 262/304 [1:00:45<10:06, 14."
     ]
    },
    {
     "name": "stdout",
     "output_type": "stream",
     "text": [
      "faulty request:  403\n",
      "list index out of range\n"
     ]
    },
    {
     "name": "stderr",
     "output_type": "stream",
     "text": [
      "\r",
      "Gathering songs lyrics of Tip 'T.I.' Harris:  87%|▊| 263/304 [1:01:02<10:25, 15."
     ]
    },
    {
     "name": "stdout",
     "output_type": "stream",
     "text": [
      "faulty request:  403\n",
      "list index out of range\n"
     ]
    },
    {
     "name": "stderr",
     "output_type": "stream",
     "text": [
      "\r",
      "Gathering songs lyrics of Tip 'T.I.' Harris:  87%|▊| 264/304 [1:01:16<09:54, 14."
     ]
    },
    {
     "name": "stdout",
     "output_type": "stream",
     "text": [
      "faulty request:  403\n",
      "list index out of range\n"
     ]
    },
    {
     "name": "stderr",
     "output_type": "stream",
     "text": [
      "\r",
      "Gathering songs lyrics of Tip 'T.I.' Harris:  87%|▊| 265/304 [1:01:30<09:28, 14."
     ]
    },
    {
     "name": "stdout",
     "output_type": "stream",
     "text": [
      "faulty request:  403\n",
      "list index out of range\n"
     ]
    },
    {
     "name": "stderr",
     "output_type": "stream",
     "text": [
      "\r",
      "Gathering songs lyrics of Tip 'T.I.' Harris:  88%|▉| 266/304 [1:01:44<09:07, 14."
     ]
    },
    {
     "name": "stdout",
     "output_type": "stream",
     "text": [
      "faulty request:  403\n",
      "list index out of range\n"
     ]
    },
    {
     "name": "stderr",
     "output_type": "stream",
     "text": [
      "\r",
      "Gathering songs lyrics of Tip 'T.I.' Harris:  88%|▉| 267/304 [1:01:58<08:47, 14."
     ]
    },
    {
     "name": "stdout",
     "output_type": "stream",
     "text": [
      "faulty request:  403\n",
      "list index out of range\n"
     ]
    },
    {
     "name": "stderr",
     "output_type": "stream",
     "text": [
      "\r",
      "Gathering songs lyrics of Tip 'T.I.' Harris:  88%|▉| 268/304 [1:02:12<08:29, 14."
     ]
    },
    {
     "name": "stdout",
     "output_type": "stream",
     "text": [
      "faulty request:  403\n",
      "list index out of range\n"
     ]
    },
    {
     "name": "stderr",
     "output_type": "stream",
     "text": [
      "\r",
      "Gathering songs lyrics of Tip 'T.I.' Harris:  88%|▉| 269/304 [1:02:26<08:12, 14."
     ]
    },
    {
     "name": "stdout",
     "output_type": "stream",
     "text": [
      "faulty request:  403\n",
      "list index out of range\n"
     ]
    },
    {
     "name": "stderr",
     "output_type": "stream",
     "text": [
      "\r",
      "Gathering songs lyrics of Tip 'T.I.' Harris:  89%|▉| 270/304 [1:02:40<07:57, 14."
     ]
    },
    {
     "name": "stdout",
     "output_type": "stream",
     "text": [
      "faulty request:  403\n",
      "list index out of range\n"
     ]
    },
    {
     "name": "stderr",
     "output_type": "stream",
     "text": [
      "\r",
      "Gathering songs lyrics of Tip 'T.I.' Harris:  89%|▉| 271/304 [1:02:55<07:53, 14."
     ]
    },
    {
     "name": "stdout",
     "output_type": "stream",
     "text": [
      "faulty request:  403\n",
      "list index out of range\n"
     ]
    },
    {
     "name": "stderr",
     "output_type": "stream",
     "text": [
      "\r",
      "Gathering songs lyrics of Tip 'T.I.' Harris:  89%|▉| 272/304 [1:03:09<07:34, 14."
     ]
    },
    {
     "name": "stdout",
     "output_type": "stream",
     "text": [
      "faulty request:  403\n",
      "list index out of range\n"
     ]
    },
    {
     "name": "stderr",
     "output_type": "stream",
     "text": [
      "\r",
      "Gathering songs lyrics of Tip 'T.I.' Harris:  90%|▉| 273/304 [1:03:23<07:17, 14."
     ]
    },
    {
     "name": "stdout",
     "output_type": "stream",
     "text": [
      "faulty request:  403\n",
      "list index out of range\n"
     ]
    },
    {
     "name": "stderr",
     "output_type": "stream",
     "text": [
      "\r",
      "Gathering songs lyrics of Tip 'T.I.' Harris:  90%|▉| 274/304 [1:03:36<07:01, 14."
     ]
    },
    {
     "name": "stdout",
     "output_type": "stream",
     "text": [
      "faulty request:  403\n",
      "list index out of range\n"
     ]
    },
    {
     "name": "stderr",
     "output_type": "stream",
     "text": [
      "\r",
      "Gathering songs lyrics of Tip 'T.I.' Harris:  90%|▉| 275/304 [1:03:50<06:47, 14."
     ]
    },
    {
     "name": "stdout",
     "output_type": "stream",
     "text": [
      "faulty request:  403\n",
      "list index out of range\n"
     ]
    },
    {
     "name": "stderr",
     "output_type": "stream",
     "text": [
      "\r",
      "Gathering songs lyrics of Tip 'T.I.' Harris:  91%|▉| 276/304 [1:04:04<06:31, 13."
     ]
    },
    {
     "name": "stdout",
     "output_type": "stream",
     "text": [
      "faulty request:  403\n",
      "list index out of range\n"
     ]
    },
    {
     "name": "stderr",
     "output_type": "stream",
     "text": [
      "\r",
      "Gathering songs lyrics of Tip 'T.I.' Harris:  91%|▉| 277/304 [1:04:18<06:16, 13."
     ]
    },
    {
     "name": "stdout",
     "output_type": "stream",
     "text": [
      "faulty request:  403\n",
      "list index out of range\n"
     ]
    },
    {
     "name": "stderr",
     "output_type": "stream",
     "text": [
      "\r",
      "Gathering songs lyrics of Tip 'T.I.' Harris:  91%|▉| 278/304 [1:04:32<06:02, 13."
     ]
    },
    {
     "name": "stdout",
     "output_type": "stream",
     "text": [
      "faulty request:  403\n",
      "list index out of range\n"
     ]
    },
    {
     "name": "stderr",
     "output_type": "stream",
     "text": [
      "\r",
      "Gathering songs lyrics of Tip 'T.I.' Harris:  92%|▉| 279/304 [1:04:46<05:48, 13."
     ]
    },
    {
     "name": "stdout",
     "output_type": "stream",
     "text": [
      "faulty request:  403\n",
      "list index out of range\n"
     ]
    },
    {
     "name": "stderr",
     "output_type": "stream",
     "text": [
      "\r",
      "Gathering songs lyrics of Tip 'T.I.' Harris:  92%|▉| 280/304 [1:05:00<05:33, 13."
     ]
    },
    {
     "name": "stdout",
     "output_type": "stream",
     "text": [
      "faulty request:  403\n",
      "list index out of range\n"
     ]
    },
    {
     "name": "stderr",
     "output_type": "stream",
     "text": [
      "\r",
      "Gathering songs lyrics of Tip 'T.I.' Harris:  92%|▉| 281/304 [1:05:14<05:19, 13."
     ]
    },
    {
     "name": "stdout",
     "output_type": "stream",
     "text": [
      "faulty request:  403\n",
      "list index out of range\n"
     ]
    },
    {
     "name": "stderr",
     "output_type": "stream",
     "text": [
      "\r",
      "Gathering songs lyrics of Tip 'T.I.' Harris:  93%|▉| 282/304 [1:05:28<05:06, 13."
     ]
    },
    {
     "name": "stdout",
     "output_type": "stream",
     "text": [
      "faulty request:  403\n",
      "list index out of range\n"
     ]
    },
    {
     "name": "stderr",
     "output_type": "stream",
     "text": [
      "\r",
      "Gathering songs lyrics of Tip 'T.I.' Harris:  93%|▉| 283/304 [1:05:42<04:52, 13."
     ]
    },
    {
     "name": "stdout",
     "output_type": "stream",
     "text": [
      "faulty request:  403\n",
      "list index out of range\n"
     ]
    },
    {
     "name": "stderr",
     "output_type": "stream",
     "text": [
      "\r",
      "Gathering songs lyrics of Tip 'T.I.' Harris:  93%|▉| 284/304 [1:05:55<04:38, 13."
     ]
    },
    {
     "name": "stdout",
     "output_type": "stream",
     "text": [
      "faulty request:  403\n",
      "list index out of range\n"
     ]
    },
    {
     "name": "stderr",
     "output_type": "stream",
     "text": [
      "\r",
      "Gathering songs lyrics of Tip 'T.I.' Harris:  94%|▉| 285/304 [1:06:09<04:23, 13."
     ]
    },
    {
     "name": "stdout",
     "output_type": "stream",
     "text": [
      "faulty request:  403\n",
      "list index out of range\n"
     ]
    },
    {
     "name": "stderr",
     "output_type": "stream",
     "text": [
      "\r",
      "Gathering songs lyrics of Tip 'T.I.' Harris:  94%|▉| 286/304 [1:06:23<04:09, 13."
     ]
    },
    {
     "name": "stdout",
     "output_type": "stream",
     "text": [
      "faulty request:  403\n",
      "list index out of range\n"
     ]
    },
    {
     "name": "stderr",
     "output_type": "stream",
     "text": [
      "\r",
      "Gathering songs lyrics of Tip 'T.I.' Harris:  94%|▉| 287/304 [1:06:37<03:56, 13."
     ]
    },
    {
     "name": "stdout",
     "output_type": "stream",
     "text": [
      "faulty request:  403\n",
      "list index out of range\n"
     ]
    },
    {
     "name": "stderr",
     "output_type": "stream",
     "text": [
      "\r",
      "Gathering songs lyrics of Tip 'T.I.' Harris:  95%|▉| 288/304 [1:06:51<03:42, 13."
     ]
    },
    {
     "name": "stdout",
     "output_type": "stream",
     "text": [
      "faulty request:  403\n",
      "list index out of range\n"
     ]
    },
    {
     "name": "stderr",
     "output_type": "stream",
     "text": [
      "\r",
      "Gathering songs lyrics of Tip 'T.I.' Harris:  95%|▉| 289/304 [1:07:06<03:32, 14."
     ]
    },
    {
     "name": "stdout",
     "output_type": "stream",
     "text": [
      "faulty request:  403\n",
      "list index out of range\n"
     ]
    },
    {
     "name": "stderr",
     "output_type": "stream",
     "text": [
      "\r",
      "Gathering songs lyrics of Tip 'T.I.' Harris:  95%|▉| 290/304 [1:07:21<03:21, 14."
     ]
    },
    {
     "name": "stdout",
     "output_type": "stream",
     "text": [
      "faulty request:  403\n",
      "list index out of range\n"
     ]
    },
    {
     "name": "stderr",
     "output_type": "stream",
     "text": [
      "\r",
      "Gathering songs lyrics of Tip 'T.I.' Harris:  96%|▉| 291/304 [1:07:35<03:05, 14."
     ]
    },
    {
     "name": "stdout",
     "output_type": "stream",
     "text": [
      "faulty request:  403\n",
      "list index out of range\n"
     ]
    },
    {
     "name": "stderr",
     "output_type": "stream",
     "text": [
      "\r",
      "Gathering songs lyrics of Tip 'T.I.' Harris:  96%|▉| 292/304 [1:07:49<02:49, 14."
     ]
    },
    {
     "name": "stdout",
     "output_type": "stream",
     "text": [
      "faulty request:  403\n",
      "list index out of range\n"
     ]
    },
    {
     "name": "stderr",
     "output_type": "stream",
     "text": [
      "\r",
      "Gathering songs lyrics of Tip 'T.I.' Harris:  96%|▉| 293/304 [1:08:03<02:34, 14."
     ]
    },
    {
     "name": "stdout",
     "output_type": "stream",
     "text": [
      "faulty request:  403\n",
      "list index out of range\n"
     ]
    },
    {
     "name": "stderr",
     "output_type": "stream",
     "text": [
      "\r",
      "Gathering songs lyrics of Tip 'T.I.' Harris:  97%|▉| 294/304 [1:08:16<02:20, 14."
     ]
    },
    {
     "name": "stdout",
     "output_type": "stream",
     "text": [
      "faulty request:  403\n",
      "list index out of range\n"
     ]
    },
    {
     "name": "stderr",
     "output_type": "stream",
     "text": [
      "\r",
      "Gathering songs lyrics of Tip 'T.I.' Harris:  97%|▉| 295/304 [1:08:30<02:05, 13."
     ]
    },
    {
     "name": "stdout",
     "output_type": "stream",
     "text": [
      "faulty request:  403\n",
      "list index out of range\n"
     ]
    },
    {
     "name": "stderr",
     "output_type": "stream",
     "text": [
      "\r",
      "Gathering songs lyrics of Tip 'T.I.' Harris:  97%|▉| 296/304 [1:08:44<01:51, 13."
     ]
    },
    {
     "name": "stdout",
     "output_type": "stream",
     "text": [
      "faulty request:  403\n",
      "list index out of range\n"
     ]
    },
    {
     "name": "stderr",
     "output_type": "stream",
     "text": [
      "\r",
      "Gathering songs lyrics of Tip 'T.I.' Harris:  98%|▉| 297/304 [1:08:58<01:37, 13."
     ]
    },
    {
     "name": "stdout",
     "output_type": "stream",
     "text": [
      "faulty request:  403\n",
      "list index out of range\n"
     ]
    },
    {
     "name": "stderr",
     "output_type": "stream",
     "text": [
      "\r",
      "Gathering songs lyrics of Tip 'T.I.' Harris:  98%|▉| 298/304 [1:09:12<01:23, 13."
     ]
    },
    {
     "name": "stdout",
     "output_type": "stream",
     "text": [
      "faulty request:  403\n",
      "list index out of range\n"
     ]
    },
    {
     "name": "stderr",
     "output_type": "stream",
     "text": [
      "\r",
      "Gathering songs lyrics of Tip 'T.I.' Harris:  98%|▉| 299/304 [1:09:26<01:09, 13."
     ]
    },
    {
     "name": "stdout",
     "output_type": "stream",
     "text": [
      "faulty request:  403\n",
      "list index out of range\n"
     ]
    },
    {
     "name": "stderr",
     "output_type": "stream",
     "text": [
      "\r",
      "Gathering songs lyrics of Tip 'T.I.' Harris:  99%|▉| 300/304 [1:09:40<00:55, 13."
     ]
    },
    {
     "name": "stdout",
     "output_type": "stream",
     "text": [
      "faulty request:  403\n",
      "list index out of range\n"
     ]
    },
    {
     "name": "stderr",
     "output_type": "stream",
     "text": [
      "\r",
      "Gathering songs lyrics of Tip 'T.I.' Harris:  99%|▉| 301/304 [1:09:54<00:41, 13."
     ]
    },
    {
     "name": "stdout",
     "output_type": "stream",
     "text": [
      "faulty request:  403\n",
      "list index out of range\n"
     ]
    },
    {
     "name": "stderr",
     "output_type": "stream",
     "text": [
      "\r",
      "Gathering songs lyrics of Tip 'T.I.' Harris:  99%|▉| 302/304 [1:10:08<00:27, 13."
     ]
    },
    {
     "name": "stdout",
     "output_type": "stream",
     "text": [
      "faulty request:  403\n",
      "list index out of range\n"
     ]
    },
    {
     "name": "stderr",
     "output_type": "stream",
     "text": [
      "\r",
      "Gathering songs lyrics of Tip 'T.I.' Harris: 100%|▉| 303/304 [1:10:22<00:13, 13."
     ]
    },
    {
     "name": "stdout",
     "output_type": "stream",
     "text": [
      "faulty request:  403\n",
      "list index out of range\n"
     ]
    },
    {
     "name": "stderr",
     "output_type": "stream",
     "text": [
      "Gathering songs lyrics of Tip 'T.I.' Harris: 100%|█| 304/304 [1:10:36<00:00, 13.\n"
     ]
    },
    {
     "name": "stdout",
     "output_type": "stream",
     "text": [
      "faulty request:  403\n",
      "list index out of range\n"
     ]
    },
    {
     "name": "stderr",
     "output_type": "stream",
     "text": [
      "Gathering songs lyrics of J. Cole:   0%|      | 1/270 [00:13<1:02:23, 13.92s/it]"
     ]
    },
    {
     "name": "stdout",
     "output_type": "stream",
     "text": [
      "faulty request:  403\n",
      "list index out of range\n"
     ]
    },
    {
     "name": "stderr",
     "output_type": "stream",
     "text": [
      "Gathering songs lyrics of J. Cole:   0%|      | 1/270 [00:19<1:27:17, 19.47s/it]\n"
     ]
    },
    {
     "ename": "KeyboardInterrupt",
     "evalue": "",
     "output_type": "error",
     "traceback": [
      "\u001b[0;31m---------------------------------------------------------------------------\u001b[0m",
      "\u001b[0;31mKeyboardInterrupt\u001b[0m                         Traceback (most recent call last)",
      "\u001b[0;32m/var/folders/bh/bkzmld751m5fdgn8m3_kzfmc0000gn/T/ipykernel_18404/3079348817.py\u001b[0m in \u001b[0;36m<module>\u001b[0;34m\u001b[0m\n\u001b[1;32m      6\u001b[0m \u001b[0;34m\u001b[0m\u001b[0m\n\u001b[1;32m      7\u001b[0m         \u001b[0msleep_time\u001b[0m \u001b[0;34m=\u001b[0m \u001b[0;36m13\u001b[0m\u001b[0;34m\u001b[0m\u001b[0;34m\u001b[0m\u001b[0m\n\u001b[0;32m----> 8\u001b[0;31m         \u001b[0mtime\u001b[0m\u001b[0;34m.\u001b[0m\u001b[0msleep\u001b[0m\u001b[0;34m(\u001b[0m\u001b[0msleep_time\u001b[0m\u001b[0;34m)\u001b[0m \u001b[0;31m# wait between requests to avoid being blocked from the site\u001b[0m\u001b[0;34m\u001b[0m\u001b[0;34m\u001b[0m\u001b[0m\n\u001b[0m\u001b[1;32m      9\u001b[0m \u001b[0;34m\u001b[0m\u001b[0m\n\u001b[1;32m     10\u001b[0m \u001b[0;34m\u001b[0m\u001b[0m\n",
      "\u001b[0;31mKeyboardInterrupt\u001b[0m: "
     ]
    }
   ],
   "source": [
    "import random\n",
    "data_list = {'Rapper':[],'Title':[], 'Lyrics':[]}\n",
    "\n",
    "for rapper, lyrics_links in links.items():\n",
    "    for url in tqdm(lyrics_links, desc = f\"Gathering songs lyrics of {rapper}\"):\n",
    "        \n",
    "        sleep_time = 13\n",
    "        time.sleep(sleep_time) # wait between requests to avoid being blocked from the site\n",
    "        \n",
    "        \n",
    "        try:\n",
    "            lyrics_page = requests.get(url)\n",
    "\n",
    "            if lyrics_page.status_code != 200:\n",
    "                print(\"faulty request: \", lyrics_page.status_code)\n",
    "\n",
    "            lyrics_html = BeautifulSoup(lyrics_page.text, 'html.parser')\n",
    "\n",
    "            title = lyrics_html.select('h1')[0].text.strip().split('\"')[1]\n",
    "            lyrics = max(lyrics_html.get_text().split('\\n\\n\\n\\n'), key=len).split('\\n\\n\\n\\r\\n')[-1]\n",
    "\n",
    "\n",
    "            tags = re.findall(\"\\[.*?\\]\", lyrics)\n",
    "            for tag in tags:\n",
    "                lyrics = lyrics.replace(tag,'')\n",
    "        except Exception as e:\n",
    "            print(e)\n",
    "            continue\n",
    "        \n",
    "        data_list['Rapper'].append(rapper)\n",
    "        data_list['Title'].append(title)  \n",
    "        data_list['Lyrics'].append(lyrics)\n",
    "    \n",
    "    \n",
    "    \n",
    "    df = pd.DataFrame(data_list)\n",
    "    df.to_csv(f\"lyric_files/{rapper}.csv\")\n",
    "    \n",
    "    \n",
    "    data_list = {'Rapper':[],'Title':[], 'Lyrics':[]}\n",
    "\n"
   ]
  },
  {
   "cell_type": "code",
   "execution_count": null,
   "id": "9519feb5",
   "metadata": {},
   "outputs": [],
   "source": []
  }
 ],
 "metadata": {
  "kernelspec": {
   "display_name": "Python 3 (ipykernel)",
   "language": "python",
   "name": "python3"
  },
  "language_info": {
   "codemirror_mode": {
    "name": "ipython",
    "version": 3
   },
   "file_extension": ".py",
   "mimetype": "text/x-python",
   "name": "python",
   "nbconvert_exporter": "python",
   "pygments_lexer": "ipython3",
   "version": "3.9.13"
  }
 },
 "nbformat": 4,
 "nbformat_minor": 5
}
